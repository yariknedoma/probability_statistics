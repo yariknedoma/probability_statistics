{
 "cells": [
  {
   "cell_type": "markdown",
   "metadata": {},
   "source": [
    "## Урок 6. Взаимосвязь величин. Параметрические и непараметрические показатели корреляции. Корреляционный анализ."
   ]
  },
  {
   "cell_type": "markdown",
   "metadata": {},
   "source": [
    "#### 1. Даны значения величины заработной платы заемщиков банка (zp) и значения их поведенческого кредитного скоринга (ks):<br> zp = [35, 45, 190, 200, 40, 70, 54, 150, 120, 110],<br>ks = [401, 574, 874, 919, 459, 739, 653, 902, 746, 832].<br>Найдите ковариацию этих двух величин с помощью элементарных действий, а затем с помощью функции cov из numpy, полученные значения должны быть равны.<br>Найдите коэффициент корреляции Пирсона с помощью ковариации и среднеквадратичных отклонений двух признаков, а затем с использованием функций из библиотек numpy и pandas."
   ]
  },
  {
   "cell_type": "code",
   "execution_count": 29,
   "metadata": {},
   "outputs": [
    {
     "data": {
      "text/plain": [
       "(9157.84, 9157.84)"
      ]
     },
     "execution_count": 29,
     "metadata": {},
     "output_type": "execute_result"
    }
   ],
   "source": [
    "import numpy as np\n",
    "\n",
    "zp = np.array([35, 45, 190, 200, 40, 70, 54, 150, 120, 110])\n",
    "ks = np.array([401, 574, 874, 919, 459, 739, 653, 902, 746, 832])\n",
    "\n",
    "# covariation\n",
    "zp_ks = zp*ks\n",
    "cov1 = round(zp_ks.mean() - zp.mean()*ks.mean(), 2)\n",
    "cov2 = np.cov(zp, ks, ddof=0)\n",
    "cov1, cov2[0][1]"
   ]
  },
  {
   "cell_type": "code",
   "execution_count": 30,
   "metadata": {},
   "outputs": [
    {
     "data": {
      "text/plain": [
       "(0.8874900920739162, 0.8874900920739162)"
      ]
     },
     "execution_count": 30,
     "metadata": {},
     "output_type": "execute_result"
    }
   ],
   "source": [
    "# correlation\n",
    "cor1 = cov1 / (np.std(zp) * np.std(ks))\n",
    "cor2 = np.corrcoef(zp, ks)\n",
    "cor1, cor2[0][1]"
   ]
  },
  {
   "cell_type": "markdown",
   "metadata": {},
   "source": [
    "#### 2. Измерены значения IQ выборки студентов, обучающихся в местных технических вузах:<br>131, 125, 115, 122, 131, 115, 107, 99, 125, 111.<br>Известно, что в генеральной совокупности IQ распределен нормально.<br>Найдите доверительный интервал для математического ожидания с надежностью 0.95."
   ]
  },
  {
   "cell_type": "code",
   "execution_count": 31,
   "metadata": {},
   "outputs": [
    {
     "data": {
      "text/plain": [
       "(110.55660776308164, 125.64339223691834)"
      ]
     },
     "execution_count": 31,
     "metadata": {},
     "output_type": "execute_result"
    }
   ],
   "source": [
    "iq = np.array([131, 125, 115, 122, 131, 115, 107, 99, 125, 111])\n",
    "n = 10\n",
    "\n",
    "SE = np.std(iq, ddof=1)/np.sqrt(n)\n",
    "\n",
    "# t score (df=9, p=0.025 for two tails)\n",
    "t_score = 2.262\n",
    "T1 = iq.mean() - t_score*SE\n",
    "T2 = iq.mean() + t_score*SE\n",
    "\n",
    "# we can be 95 % confident that population mean is in between T1 and T2 range\n",
    "T1, T2"
   ]
  },
  {
   "cell_type": "markdown",
   "metadata": {},
   "source": [
    "#### 3. Известно, что рост футболистов в сборной распределен нормально с дисперсией генеральной совокупности, равной 25 кв.см. <br>Объем выборки равен 27, среднее выборочное составляет 174.2. <br>Найдите доверительный интервал для математического ожидания с альфа =0,95"
   ]
  },
  {
   "cell_type": "code",
   "execution_count": 32,
   "metadata": {},
   "outputs": [
    {
     "data": {
      "text/plain": [
       "(172.31398912064722, 176.08601087935276)"
      ]
     },
     "execution_count": 32,
     "metadata": {},
     "output_type": "execute_result"
    }
   ],
   "source": [
    "p_std = 5\n",
    "x_mean = 174.2\n",
    "n = 27\n",
    "\n",
    "z_score = 1.96\n",
    "SE = p_std / np.sqrt(27)\n",
    "\n",
    "T1 = x_mean - z_score*SE\n",
    "T2 = x_mean + z_score*SE\n",
    "\n",
    "# we can be 95 % confident that population mean is in between T1 and T2 range\n",
    "T1, T2"
   ]
  }
 ],
 "metadata": {
  "kernelspec": {
   "display_name": "Python 3",
   "language": "python",
   "name": "python3"
  },
  "language_info": {
   "codemirror_mode": {
    "name": "ipython",
    "version": 3
   },
   "file_extension": ".py",
   "mimetype": "text/x-python",
   "name": "python",
   "nbconvert_exporter": "python",
   "pygments_lexer": "ipython3",
   "version": "3.8.5"
  }
 },
 "nbformat": 4,
 "nbformat_minor": 4
}
