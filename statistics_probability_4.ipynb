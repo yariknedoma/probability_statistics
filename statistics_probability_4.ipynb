{
 "cells": [
  {
   "cell_type": "markdown",
   "metadata": {},
   "source": [
    "## Урок 4. Непрерывные случайные величины. Функция распределения и плотность распределения вероятностей. Равномерное и нормальное распределение. Центральная предельная теорема"
   ]
  },
  {
   "cell_type": "markdown",
   "metadata": {},
   "source": [
    "#### 1. Случайная непрерывная величина A имеет равномерное распределение на промежутке (200, 800]. <br>Найдите ее среднее значение и дисперсию."
   ]
  },
  {
   "cell_type": "code",
   "execution_count": 1,
   "metadata": {},
   "outputs": [
    {
     "data": {
      "text/plain": [
       "(500.0, 30000.0)"
      ]
     },
     "execution_count": 1,
     "metadata": {},
     "output_type": "execute_result"
    }
   ],
   "source": [
    "a = 200\n",
    "b = 800\n",
    "M = (a + b)/2\n",
    "D = (b-a)**2 / 12\n",
    "M, D"
   ]
  },
  {
   "cell_type": "markdown",
   "metadata": {},
   "source": [
    "#### 2. О случайной непрерывной равномерно распределенной величине B известно, что ее дисперсия равна 0.2. <br>Можно ли найти правую границу величины B и ее среднее значение зная, что левая граница равна 0.5? <br>Если да, найдите ее."
   ]
  },
  {
   "cell_type": "code",
   "execution_count": 3,
   "metadata": {},
   "outputs": [
    {
     "data": {
      "text/plain": [
       "(2.049193338482967, 1.2745966692414834)"
      ]
     },
     "execution_count": 3,
     "metadata": {},
     "output_type": "execute_result"
    }
   ],
   "source": [
    "from math import sqrt\n",
    "D = 0.2\n",
    "a = 0.5\n",
    "b = sqrt(12*D)+a\n",
    "M = (a+b)/2\n",
    "b, M"
   ]
  },
  {
   "cell_type": "markdown",
   "metadata": {},
   "source": [
    "#### 3. Непрерывная случайная величина X распределена нормально и задана плотностью распределения<br>f(x) = (1 / (4 * sqrt(2*pi))) * (exp(-((x+2)**2) / 32))<br>Найдите:<ol><li>M(X)</li><li>D(X)</li><li>std(X) (среднее квадратичное отклонение)</li></ol>"
   ]
  },
  {
   "cell_type": "code",
   "execution_count": 4,
   "metadata": {},
   "outputs": [
    {
     "data": {
      "text/plain": [
       "(-2, 16, 4)"
      ]
     },
     "execution_count": 4,
     "metadata": {},
     "output_type": "execute_result"
    }
   ],
   "source": [
    "M = -2\n",
    "std = 4\n",
    "D = std**2\n",
    "M, D, std"
   ]
  },
  {
   "cell_type": "markdown",
   "metadata": {},
   "source": [
    "#### 4. Рост взрослого населения города X имеет нормальное распределение.<br>Причем, средний рост равен 174 см, а среднее квадратичное отклонение равно 8 см.<br>Какова вероятность того, что случайным образом выбранный взрослый человек имеет рост:<ol><li>больше 182 см</li><li>больше 190 см</li><li>от 166 см до 190 см</li><li>от 166 см до 182 см</li><li>от 158 см до 190 см</li><li>не выше 150 см или не ниже 190 см</li><li>не выше 150 см или не ниже 198 см</li><li>ниже 166 см</li></ol>"
   ]
  },
  {
   "cell_type": "code",
   "execution_count": 7,
   "metadata": {},
   "outputs": [],
   "source": [
    "# больше 182 см -> z_score = 1 ; P(x > 1) = (100-68.2)/2 = 15.9 %\n",
    "# больше 190 см -> z_score = 2 ; P(x > 2) = (100-95.4)/2 = 2.3 %\n",
    "# от 166 см до 190 см -> z1 = -2 ; z2 = 2 ; P(xE[-2;2]) = 95.4 %\n",
    "# от 166 см до 182 см -> z1 = -2 ; z2 = 1 ; P(xE[-2;1]) = 95.4 - (95.4-68.2)/2 = 81.8 %\n",
    "# не выше 150 см или не ниже 190 см -> z1 = -3 ; z2 = 2 ; P(x < -3 | x > 2 ) = 0.15 + 2.3 = 2.45 %\n",
    "# не выше 150 см или не ниже 198 см -> z1 = -3 ; z2 = 3 ; P(x < -3 | x > 3 ) = 0.3 %\n",
    "# ниже 166 см -> z_score = -1 ; P(x < -1) = P(x > 1) = 15.9 %"
   ]
  },
  {
   "cell_type": "markdown",
   "metadata": {},
   "source": [
    "#### 5. На сколько сигм (средних квадратичных отклонений) отклоняется рост человека, равный 190 см, от математического ожидания роста в популяции, в которой M(X) = 178 см и D(X) = 25 кв.см?"
   ]
  },
  {
   "cell_type": "code",
   "execution_count": 8,
   "metadata": {},
   "outputs": [
    {
     "data": {
      "text/plain": [
       "2.4"
      ]
     },
     "execution_count": 8,
     "metadata": {},
     "output_type": "execute_result"
    }
   ],
   "source": [
    "M = 178\n",
    "D = 25\n",
    "std = 5\n",
    "z = (190-M)/std\n",
    "z"
   ]
  }
 ],
 "metadata": {
  "kernelspec": {
   "display_name": "Python 3",
   "language": "python",
   "name": "python3"
  },
  "language_info": {
   "codemirror_mode": {
    "name": "ipython",
    "version": 3
   },
   "file_extension": ".py",
   "mimetype": "text/x-python",
   "name": "python",
   "nbconvert_exporter": "python",
   "pygments_lexer": "ipython3",
   "version": "3.8.5"
  }
 },
 "nbformat": 4,
 "nbformat_minor": 4
}
