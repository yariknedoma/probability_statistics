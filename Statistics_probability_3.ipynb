{
 "cells": [
  {
   "cell_type": "markdown",
   "metadata": {},
   "source": [
    "## Урок 3. Описательная статистика. Качественные и количественные характеристики популяции. Графическое представление данных"
   ]
  },
  {
   "cell_type": "markdown",
   "metadata": {},
   "source": [
    "#### 1. Даны значения зарплат из выборки выпускников: 100, 80, 75, 77, 89, 33, 45, 25, 65, 17, 30, 24, 57, 55, 70, 75, 65, 84, 90, 150. Посчитать (желательно без использования статистических методов наподобие std, var, mean) среднее арифметическое, среднее квадратичное отклонение, смещенную и несмещенную оценки дисперсий для данной выборки."
   ]
  },
  {
   "cell_type": "code",
   "execution_count": 5,
   "metadata": {},
   "outputs": [
    {
     "data": {
      "text/plain": [
       "(65.3, 950.11, 1000.1157894736842, 30.823854398825596, 31.624607341019814)"
      ]
     },
     "execution_count": 5,
     "metadata": {},
     "output_type": "execute_result"
    }
   ],
   "source": [
    "from math import sqrt\n",
    "data = [100, 80, 75, 77, 89, 33, 45, 25, 65, 17, 30, 24, 57, 55, 70, 75, 65, 84, 90, 150]\n",
    "n = len(data)\n",
    "mean = sum(data)/n\n",
    "Var_population = sum([(i - mean)**2 for i in data])/n\n",
    "Var_sample = sum([(i - mean)**2 for i in data])/(n-1)\n",
    "std_population = sqrt(Var_population)\n",
    "std_sample = sqrt(Var_sample)\n",
    "mean, Var_population, Var_sample, std_population, std_sample"
   ]
  },
  {
   "cell_type": "markdown",
   "metadata": {},
   "source": [
    "##### Ответ: <br>среднее арифметическое = 65.3 <br> дисперсия для ген. совокупности = 950.11  <br> дисперсия для выборки ~ 1000.12  <br>ско для ген. совокупности ~ 30.82  <br> ско для выборки ~ 31.62  <br>"
   ]
  },
  {
   "cell_type": "markdown",
   "metadata": {},
   "source": [
    "#### 2. В первом ящике находится 8 мячей, из которых 5 - белые. Во втором ящике - 12 мячей, из которых 5 белых. Из первого ящика вытаскивают случайным образом два мяча, из второго - 4. <br>Какова вероятность того, что 3 мяча белые?"
   ]
  },
  {
   "cell_type": "code",
   "execution_count": 15,
   "metadata": {},
   "outputs": [
    {
     "data": {
      "text/plain": [
       "0.36868686868686873"
      ]
     },
     "execution_count": 15,
     "metadata": {},
     "output_type": "execute_result"
    }
   ],
   "source": [
    "# p1: ящик1 - 0 белых, ящик2 - 3 белых\n",
    "p1 = (3/8) * (2/7) * (5/12) * (4/11) * (3/10) * (7/9) * 4\n",
    "# p2: ящик1 - 1 белый, ящик2 - 2 белых\n",
    "p2 = 2 * (5/8) * (3/7) * 6 * (5/12) * (4/11) * (7/10) * (6/9)\n",
    "# p3: ящик1 - 2 белых, ящик2 - 1 белый\n",
    "p3 = (5/8) * (4/7) * 4 * (5/12) * (7/11) * (6/10) * (5/9)\n",
    "p = p1 + p2 + p3\n",
    "p"
   ]
  },
  {
   "cell_type": "markdown",
   "metadata": {},
   "source": [
    "##### Ответ: <br>вероятность вытащить 3 белых мяча: ~ 36.87 %"
   ]
  },
  {
   "cell_type": "markdown",
   "metadata": {},
   "source": [
    "#### 3. На соревновании по биатлону один из трех спортсменов стреляет и попадает в мишень. Вероятность попадания для первого спортсмена равна 0.9, для второго — 0.8, для третьего — 0.6. Найти вероятность того, что выстрел произведен: a). первым спортсменом б). вторым спортсменом в). третьим спортсменом."
   ]
  },
  {
   "cell_type": "code",
   "execution_count": 16,
   "metadata": {},
   "outputs": [
    {
     "data": {
      "text/plain": [
       "(0.3913043478260869, 0.34782608695652173, 0.26086956521739124)"
      ]
     },
     "execution_count": 16,
     "metadata": {},
     "output_type": "execute_result"
    }
   ],
   "source": [
    "precision_sum = 0.9 + 0.8 + 0.6\n",
    "p1 = 0.9 / precision_sum\n",
    "p2 = 0.8 / precision_sum\n",
    "p3 = 0.6 / precision_sum\n",
    "p1, p2, p3"
   ]
  },
  {
   "cell_type": "markdown",
   "metadata": {},
   "source": [
    "##### Ответ: <br>вероятность, что выстрел произвел первый спортсмен ~ 39.13 % <br> второй спортсмен ~ 34.78 % <br> третий спортсмен ~ 26.09 %  <br>"
   ]
  },
  {
   "cell_type": "markdown",
   "metadata": {},
   "source": [
    "#### 4. В университет на факультеты A и B поступило равное количество студентов, а на факультет C студентов поступило столько же, сколько на A и B вместе.<br> Вероятность того, что студент факультета A сдаст первую сессию, равна 0.8. Для студента факультета B эта вероятность равна 0.7, а для студента факультета C - 0.9. Студент сдал первую сессию. <br>Какова вероятность, что он учится: <ol><li>на факультете A?</li><li>на факультете B?</li><li>на факультете C?</li></ol>"
   ]
  },
  {
   "cell_type": "code",
   "execution_count": 17,
   "metadata": {},
   "outputs": [
    {
     "data": {
      "text/plain": [
       "(0.24242424242424246, 0.21212121212121213, 0.5454545454545455)"
      ]
     },
     "execution_count": 17,
     "metadata": {},
     "output_type": "execute_result"
    }
   ],
   "source": [
    "weighted_sum = 0.25*0.8 +  0.25*0.7 + 0.5*0.9\n",
    "p1 = (0.25*0.8) / weighted_sum\n",
    "p2 = (0.25*0.7) / weighted_sum\n",
    "p3 = (0.5*0.9) / weighted_sum\n",
    "p1, p2, p3"
   ]
  },
  {
   "cell_type": "markdown",
   "metadata": {},
   "source": [
    "##### Ответ: <br>вероятность, что студент учится на факультете А ~ 24.24 % <br> факультете B ~ 21.21 % <br> факультете C ~ 54.55 %  <br>"
   ]
  },
  {
   "cell_type": "markdown",
   "metadata": {},
   "source": [
    "#### 5. Устройство состоит из трех деталей. Для первой детали вероятность выйти из строя в первый месяц равна 0.1, для второй - 0.2, для третьей - 0.25. <br>Какова вероятность того, что в первый месяц выйдут из строя: <ol><li>все детали?</li><li>только две детали?</li><li>хотя бы одна деталь?</li><li>от одной до двух деталей?</li></ol>"
   ]
  },
  {
   "cell_type": "code",
   "execution_count": 28,
   "metadata": {},
   "outputs": [
    {
     "data": {
      "text/plain": [
       "(0.005000000000000001,\n",
       " 0.08000000000000002,\n",
       " 0.45999999999999996,\n",
       " 0.45499999999999996)"
      ]
     },
     "execution_count": 28,
     "metadata": {},
     "output_type": "execute_result"
    }
   ],
   "source": [
    "all_details = 0.1*0.2*0.25\n",
    "two_details = 0.1*0.2*0.75 + 0.1*0.25*0.8 + 0.25*0.2*0.9\n",
    "at_least_one = 1 - 0.9*0.8*0.75\n",
    "one_to_two_details = at_least_one - all_details\n",
    "all_details, two_details, at_least_one, one_to_two_details"
   ]
  },
  {
   "cell_type": "markdown",
   "metadata": {},
   "source": [
    "##### Ответ: <br>вероятность, что из строя выйдут все детали ~ 0.5 % <br> 2 детали ~ 8.00 % <br> хотя бы 1 деталь ~ 46.00 %  <br>"
   ]
  },
  {
   "cell_type": "code",
   "execution_count": null,
   "metadata": {},
   "outputs": [],
   "source": []
  }
 ],
 "metadata": {
  "kernelspec": {
   "display_name": "Python 3",
   "language": "python",
   "name": "python3"
  },
  "language_info": {
   "codemirror_mode": {
    "name": "ipython",
    "version": 3
   },
   "file_extension": ".py",
   "mimetype": "text/x-python",
   "name": "python",
   "nbconvert_exporter": "python",
   "pygments_lexer": "ipython3",
   "version": "3.8.5"
  }
 },
 "nbformat": 4,
 "nbformat_minor": 4
}
