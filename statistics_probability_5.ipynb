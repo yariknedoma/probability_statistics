{
 "cells": [
  {
   "cell_type": "markdown",
   "metadata": {},
   "source": [
    "## Урок 5. Проверка статистических гипотез. P-значения. Доверительные интервалы. A/B-тестирование"
   ]
  },
  {
   "cell_type": "markdown",
   "metadata": {},
   "source": [
    "#### 1. Известно, что генеральная совокупность распределена нормально со средним квадратическим отклонением, равным 16. Найти доверительный интервал для оценки математического ожидания a с надежностью 0.95, если выборочная средняя M = 80, а объем выборки n = 256."
   ]
  },
  {
   "cell_type": "code",
   "execution_count": null,
   "metadata": {},
   "outputs": [],
   "source": [
    "# z score (p value == 0.025) = +- 1.96\n",
    "# standard error = std / sqrt(n) = 16 / sqrt(256) = 1\n",
    "# M0 = 80 - 1.96*1 = 78.04\n",
    "# M1 = 80 + 1.96*1 = 81.96\n",
    "# P(M E [78.04, 81,96]) = 0.95"
   ]
  },
  {
   "cell_type": "markdown",
   "metadata": {},
   "source": [
    "#### 2. В результате 10 независимых измерений некоторой величины X, выполненных с одинаковой точностью, получены опытные данные: <br>6.9, 6.1, 6.2, 6.8, 7.5, 6.3, 6.4, 6.9, 6.7, 6.1 <br>Предполагая, что результаты измерений подчинены нормальному закону распределения вероятностей, оценить истинное значение величины X при помощи доверительного интервала, покрывающего это значение с доверительной вероятностью 0,95."
   ]
  },
  {
   "cell_type": "code",
   "execution_count": 7,
   "metadata": {},
   "outputs": [
    {
     "data": {
      "text/plain": [
       "(6.3105901775368505, 6.869409822463151)"
      ]
     },
     "execution_count": 7,
     "metadata": {},
     "output_type": "execute_result"
    }
   ],
   "source": [
    "import numpy as np\n",
    "from math import sqrt\n",
    "\n",
    "array = np.array([6.9, 6.1, 6.2, 6.8, 7.5, 6.3, 6.4, 6.9, 6.7, 6.1])\n",
    "n = 10\n",
    "mean = np.mean(array)\n",
    "std = np.std(array, ddof=1)\n",
    "\n",
    "# z score = +- 1.96\n",
    "z = 1.96\n",
    "\n",
    "# standard error = std / sqrt(n)\n",
    "SE = std / sqrt(n)\n",
    "M0 = mean - z * SE \n",
    "M1 = mean + z * SE \n",
    "# P (M E [M0, M1]) = 0.95\n",
    "M0, M1"
   ]
  },
  {
   "cell_type": "markdown",
   "metadata": {},
   "source": [
    "#### 3. Утверждается, что шарики для подшипников, изготовленные автоматическим станком, имеют средний диаметр 17 мм.<br>Используя односторонний критерий с α=0,05, проверить эту гипотезу, если в выборке из n=100 шариков средний диаметр оказался равным 17.5 мм, а дисперсия известна и равна 4 кв.мм."
   ]
  },
  {
   "cell_type": "code",
   "execution_count": 10,
   "metadata": {},
   "outputs": [],
   "source": [
    "M = 17\n",
    "X = 17.5\n",
    "std = 2\n",
    "significance_value = 0.05\n",
    "n = 100\n",
    "\n",
    "# z score of P(X=17.5 | M=17, std=2, n=100) = (X-M)/(std/sqrt(n))\n",
    "# z = 0.5/0.2 = 2.5\n",
    "# p_value for z score of 2.5 == 0.00621 => 0.00621 < 0.05 => Отвергаем нулевую гипотезу, \n",
    "# средний диаметр не равен 17 мм"
   ]
  },
  {
   "cell_type": "markdown",
   "metadata": {},
   "source": [
    "#### 4. Продавец утверждает, что средний вес пачки печенья составляет 200 г. Из партии извлечена выборка из 10 пачек. Вес каждой пачки составляет: <br>202, 203, 199, 197, 195, 201, 200, 204, 194, 190<br> Известно, что их веса распределены нормально. Верно ли утверждение продавца, если учитывать, что доверительная вероятность равна 99%"
   ]
  },
  {
   "cell_type": "code",
   "execution_count": 14,
   "metadata": {},
   "outputs": [
    {
     "data": {
      "text/plain": [
       "(4.453463071962462, 198.5, -1.0651074037450896)"
      ]
     },
     "execution_count": 14,
     "metadata": {},
     "output_type": "execute_result"
    }
   ],
   "source": [
    "array = np.array([202, 203, 199, 197, 195, 201, 200, 204, 194, 190])\n",
    "n = 10\n",
    "std = np.std(array, ddof=1)\n",
    "mean = np.mean(array)\n",
    "\n",
    "z = (mean - 200)/(std/sqrt(n))   # z ~ -1.065   p value ~ 0.143\n",
    "# 0.143 > 0.005 => недостаточно доказательств для того, чтобы отвергнуть нулевую гипотезу\n",
    "\n",
    "std, mean, z"
   ]
  },
  {
   "cell_type": "code",
   "execution_count": null,
   "metadata": {},
   "outputs": [],
   "source": []
  }
 ],
 "metadata": {
  "kernelspec": {
   "display_name": "Python 3",
   "language": "python",
   "name": "python3"
  },
  "language_info": {
   "codemirror_mode": {
    "name": "ipython",
    "version": 3
   },
   "file_extension": ".py",
   "mimetype": "text/x-python",
   "name": "python",
   "nbconvert_exporter": "python",
   "pygments_lexer": "ipython3",
   "version": "3.8.5"
  }
 },
 "nbformat": 4,
 "nbformat_minor": 4
}
