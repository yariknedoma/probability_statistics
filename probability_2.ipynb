{
 "cells": [
  {
   "cell_type": "markdown",
   "metadata": {},
   "source": [
    "## Урок 2. Дискретные случайные величины. Закон распределения вероятностей. Биномиальный закон распределения. Распределение Пуассона"
   ]
  },
  {
   "cell_type": "markdown",
   "metadata": {},
   "source": [
    "#### 1. Вероятность того, что стрелок попадет в мишень, выстрелив один раз, равна 0.8. Стрелок выстрелил 100 раз. <br>Найдите вероятность того, что стрелок попадет в цель ровно 85 раз."
   ]
  },
  {
   "cell_type": "code",
   "execution_count": 8,
   "metadata": {},
   "outputs": [
    {
     "data": {
      "text/plain": [
       "4.8061793700746565"
      ]
     },
     "execution_count": 8,
     "metadata": {},
     "output_type": "execute_result"
    }
   ],
   "source": [
    "from math import factorial\n",
    "factorial(100) / factorial(15) / factorial(85)  * (0.8**85) * (0.2**15) * 100"
   ]
  },
  {
   "cell_type": "markdown",
   "metadata": {},
   "source": [
    "##### Ответ: <br>вероятность попасть ровно 85 раз: ~ 4.81 %"
   ]
  },
  {
   "cell_type": "markdown",
   "metadata": {},
   "source": [
    "#### 2. Вероятность того, что лампочка перегорит в течение первого дня эксплуатации, равна 0.0004. <br>В жилом комплексе после ремонта в один день включили 5000 новых лампочек. <ol><li>Какова вероятность, что ни одна из них не перегорит в первый день?</li> <li> Какова вероятность, что перегорят ровно две?</li></ol>"
   ]
  },
  {
   "cell_type": "code",
   "execution_count": 15,
   "metadata": {},
   "outputs": [
    {
     "data": {
      "text/plain": [
       "(13.528114551440707, 27.07247150266753)"
      ]
     },
     "execution_count": 15,
     "metadata": {},
     "output_type": "execute_result"
    }
   ],
   "source": [
    "none_of_them = 0.9996**5000 * 100\n",
    "two_of_them = 2500 * 4999 * (0.9996**4998) * (0.0004**2) * 100\n",
    "none_of_them, two_of_them"
   ]
  },
  {
   "cell_type": "markdown",
   "metadata": {},
   "source": [
    "##### Ответ: <br>ни одна не перегорит ~ 13.53 % <br> ровно 2 перегорят ~ 27.07 %"
   ]
  },
  {
   "cell_type": "markdown",
   "metadata": {},
   "source": [
    "#### 3. Монету подбросили 144 раза. <br>Какова вероятность, что орел выпадет ровно 70 раз?"
   ]
  },
  {
   "cell_type": "code",
   "execution_count": 18,
   "metadata": {},
   "outputs": [
    {
     "data": {
      "text/plain": [
       "6.281178035144776"
      ]
     },
     "execution_count": 18,
     "metadata": {},
     "output_type": "execute_result"
    }
   ],
   "source": [
    "factorial(144) / factorial(70) / factorial(74) * (1/2**144) * 100"
   ]
  },
  {
   "cell_type": "markdown",
   "metadata": {},
   "source": [
    "##### Ответ: <br>вероятность выпадания орла ровно 70 раз: ~ 6.28 %"
   ]
  },
  {
   "cell_type": "markdown",
   "metadata": {},
   "source": [
    "#### 4.В первом ящике находится 10 мячей, из которых 7 - белые. Во втором ящике - 11 мячей, из которых 9 белых. <br>Из каждого ящика вытаскивают случайным образом по два мяча. <ol><li>Какова вероятность того, что все мячи белые? </li><li>Какова вероятность того, что ровно два мяча белые? </li><li>Какова вероятность того, что хотя бы один мяч белый?</li></ol>"
   ]
  },
  {
   "cell_type": "code",
   "execution_count": 23,
   "metadata": {},
   "outputs": [
    {
     "data": {
      "text/plain": [
       "(30.545454545454543, 20.484848484848484, 99.87878787878788)"
      ]
     },
     "execution_count": 23,
     "metadata": {},
     "output_type": "execute_result"
    }
   ],
   "source": [
    "all_white = (7/10) * (6/9) * (9/11) * (8/10) * 100\n",
    "# 3 возможных сценария для вытаскивания 2 белых шаров: 1я - 2, 2я - 0 ; 1я - 1, 2я - 1 ; 1я - 0, 2я - 2\n",
    "two_whites = ((3/10) * (2/9) * (9/11) * (8/10) + 2 * (7/10) * (3/9) * 2 * (9/11) * (2/10) + (7/10) * (6/9) * (2/11) * (1/10)) * 100\n",
    "at_least_one_white = (1 - (3/10) * (2/9) * (2/11) * (1/10)) * 100\n",
    "all_white, two_whites, at_least_one_white"
   ]
  },
  {
   "cell_type": "markdown",
   "metadata": {},
   "source": [
    "##### Ответ: <br>все белые ~ 30.55 % <br> ровно 2 белых ~ 20.48 %  <br> хотя бы 1 белый ~ 99.88 %"
   ]
  }
 ],
 "metadata": {
  "kernelspec": {
   "display_name": "Python 3",
   "language": "python",
   "name": "python3"
  },
  "language_info": {
   "codemirror_mode": {
    "name": "ipython",
    "version": 3
   },
   "file_extension": ".py",
   "mimetype": "text/x-python",
   "name": "python",
   "nbconvert_exporter": "python",
   "pygments_lexer": "ipython3",
   "version": "3.8.5"
  }
 },
 "nbformat": 4,
 "nbformat_minor": 4
}
