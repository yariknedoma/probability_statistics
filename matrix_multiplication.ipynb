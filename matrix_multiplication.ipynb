{
 "cells": [
  {
   "cell_type": "code",
   "execution_count": 80,
   "metadata": {},
   "outputs": [],
   "source": [
    "matrix1 = [[1, 0, 1],\n",
    "           [2, 0, 1]]\n",
    "matrix2 = [[3, 1, 4],\n",
    "           [0, 0, 0],\n",
    "           [1, 1, 3]]"
   ]
  },
  {
   "cell_type": "code",
   "execution_count": 81,
   "metadata": {},
   "outputs": [],
   "source": [
    "def matrix_mupltiplication(m1, m2):\n",
    "    \n",
    "    m1_shape = (len(m1), len(m1[0]))\n",
    "    m2_shape = (len(m2), len(m2[0]))\n",
    "    operations = m2_shape[0]\n",
    "    new_matrix_shape = (m1_shape[0], m2_shape[1])\n",
    "    \n",
    "    if m1_shape[1] == m2_shape[0]:\n",
    "        \n",
    "        # creating a 0 matrix\n",
    "        new_matrix = [[0 for el in range(new_matrix_shape[1])] for row in range(new_matrix_shape[0])]\n",
    "        \n",
    "        for row in range(new_matrix_shape[0]):\n",
    "            for element in range(new_matrix_shape[1]):\n",
    "                new_element = 0\n",
    "                for operation in range(operations):\n",
    "                    new_element += m1[row][operation]*m2[operation][element]\n",
    "                    \n",
    "                # changing 0 matrix element after it had been calculated\n",
    "                new_matrix[row][element] = new_element\n",
    "                \n",
    "    else:\n",
    "        print(f'Matrices cannot be multiplied because of a shape missmatch\\n'\\\n",
    "              f'Shapes of the matrices are: {m1_shape} and {m2_shape}')\n",
    "        return None\n",
    "    \n",
    "    return new_matrix"
   ]
  },
  {
   "cell_type": "code",
   "execution_count": 82,
   "metadata": {},
   "outputs": [
    {
     "data": {
      "text/plain": [
       "[[4, 2, 7], [7, 3, 11]]"
      ]
     },
     "execution_count": 82,
     "metadata": {},
     "output_type": "execute_result"
    }
   ],
   "source": [
    "matrix_mupltiplication(matrix1, matrix2)"
   ]
  }
 ],
 "metadata": {
  "kernelspec": {
   "display_name": "Python 3",
   "language": "python",
   "name": "python3"
  },
  "language_info": {
   "codemirror_mode": {
    "name": "ipython",
    "version": 3
   },
   "file_extension": ".py",
   "mimetype": "text/x-python",
   "name": "python",
   "nbconvert_exporter": "python",
   "pygments_lexer": "ipython3",
   "version": "3.8.5"
  }
 },
 "nbformat": 4,
 "nbformat_minor": 4
}
